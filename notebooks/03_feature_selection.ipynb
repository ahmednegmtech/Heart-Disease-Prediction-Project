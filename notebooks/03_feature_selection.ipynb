{
 "cells": [
  {
   "cell_type": "markdown",
   "id": "1d9a7385-8df4-49f1-aa78-9a95f6319547",
   "metadata": {},
   "source": [
    "# SPRINT 3: Feature Selection\n",
    "\n",
    "## Step 1: Load Data and Prepare for Selection\n",
    "\n",
    "**Objective:** In this notebook, we will use various techniques to select the most important features from our original processed dataset (`heart_disease_processed.csv`). Unlike PCA, which transforms features, feature selection *chooses* a subset of the original features. This can improve model performance by eliminating irrelevant data and results in a more interpretable model.\n",
    "\n",
    "**Method:** We will start with a powerful technique called **Recursive Feature Elimination (RFE)**. RFE works by recursively removing the least important features and building a model on the remaining features until the desired number of features is reached."
   ]
  },
  {
   "cell_type": "code",
   "execution_count": 1,
   "id": "04dfb1a4-6f1b-4a92-823f-492e065c8b0b",
   "metadata": {},
   "outputs": [
    {
     "name": "stdout",
     "output_type": "stream",
     "text": [
      "--- Shape of our data for Feature Selection ---\n",
      "Features (X) shape: (303, 18)\n",
      "Target (y) shape: (303,)\n"
     ]
    }
   ],
   "source": [
    "# --- 1. Import Libraries ---\n",
    "import pandas as pd\n",
    "import numpy as np\n",
    "from sklearn.feature_selection import RFE\n",
    "from sklearn.linear_model import LogisticRegression\n",
    "\n",
    "# --- 2. Load the Processed Data ---\n",
    "# We use the data that was encoded and scaled, but NOT transformed by PCA.\n",
    "PROCESSED_DATA_PATH = '../data/heart_disease_processed.csv'\n",
    "df = pd.read_csv(PROCESSED_DATA_PATH)\n",
    "\n",
    "# --- 3. Separate Features (X) and Target (y) ---\n",
    "X = df.drop('target', axis=1)\n",
    "y = df['target']\n",
    "\n",
    "# --- 4. Verify the separation ---\n",
    "print(\"--- Shape of our data for Feature Selection ---\")\n",
    "print(\"Features (X) shape:\", X.shape)\n",
    "print(\"Target (y) shape:\", y.shape)"
   ]
  },
  {
   "cell_type": "markdown",
   "id": "014ab188-2cf6-41b2-a5a0-18272e335fa0",
   "metadata": {},
   "source": [
    "## Step 2: Applying Recursive Feature Elimination (RFE)\n",
    "\n",
    "**Objective:** We will now apply the RFE algorithm to our dataset. To do this, we need to make two key decisions:\n",
    "1.  **Estimator:** RFE needs a model to help it judge the importance of features. We will use `LogisticRegression` as our estimator because it is a fast and efficient classification model.\n",
    "2.  **Number of Features:** We need to decide how many of the best features we want to select. To make a fair comparison with our PCA results, let's aim to select the top **12 features**."
   ]
  },
  {
   "cell_type": "code",
   "execution_count": 2,
   "id": "08537054-b40a-4b21-89b3-8ac88f7cd277",
   "metadata": {},
   "outputs": [
    {
     "name": "stdout",
     "output_type": "stream",
     "text": [
      "Number of selected features: 12\n",
      "\n",
      "The selected features are:\n",
      "['trestbps', 'thalach', 'oldpeak', 'ca', 'sex_1.0', 'cp_2.0', 'cp_4.0', 'fbs_1.0', 'restecg_2.0', 'exang_1.0', 'slope_2.0', 'thal_7.0']\n"
     ]
    }
   ],
   "source": [
    "# --- 1. Instantiate the base model (estimator) ---\n",
    "# We'll use Logistic Regression to evaluate features. max_iter is set to avoid convergence warnings.\n",
    "estimator = LogisticRegression(max_iter=1000, random_state=42)\n",
    "\n",
    "# --- 2. Instantiate and apply RFE ---\n",
    "# We want to select the top 12 features.\n",
    "rfe = RFE(estimator=estimator, n_features_to_select=12)\n",
    "rfe.fit(X, y)\n",
    "\n",
    "# --- 3. Get the list of selected features ---\n",
    "# The 'support_' attribute of the fitted rfe object is a boolean mask.\n",
    "selected_features_mask = rfe.support_\n",
    "selected_features = X.columns[selected_features_mask]\n",
    "\n",
    "# --- 4. Print the results ---\n",
    "print(f\"Number of selected features: {len(selected_features)}\")\n",
    "print(\"\\nThe selected features are:\")\n",
    "print(list(selected_features))"
   ]
  },
  {
   "cell_type": "markdown",
   "id": "9c6bf62b-dc17-42e2-8470-cd72a718dd6f",
   "metadata": {},
   "source": [
    "## Step 3: Creating and Saving the Final DataFrame\n",
    "\n",
    "**Objective:** Now that RFE has identified the most impactful features, our final step is to create a new DataFrame. This DataFrame will contain only these 12 selected features plus our target variable. This clean, focused, and highly interpretable dataset is now ready for the modeling phase."
   ]
  },
  {
   "cell_type": "code",
   "execution_count": 3,
   "id": "39caa40d-cf94-4de1-b6a5-9a55ccc383e4",
   "metadata": {},
   "outputs": [
    {
     "name": "stdout",
     "output_type": "stream",
     "text": [
      "Shape of the final RFE DataFrame: (303, 13)\n",
      "\n",
      "--- First 5 rows of the final DataFrame ---\n",
      "   trestbps   thalach   oldpeak   ca  sex_1.0  cp_2.0  cp_4.0  fbs_1.0  \\\n",
      "0  0.757525  0.017197  1.087338  0.0     True   False   False     True   \n",
      "1  1.611220 -1.821905  0.397182  3.0     True   False    True    False   \n",
      "2 -0.665300 -0.902354  1.346147  2.0     True   False    True    False   \n",
      "3 -0.096170  1.637359  2.122573  0.0     True   False   False    False   \n",
      "4 -0.096170  0.980537  0.310912  0.0    False    True   False    False   \n",
      "\n",
      "   restecg_2.0  exang_1.0  slope_2.0  thal_7.0  target  \n",
      "0         True      False      False     False       0  \n",
      "1         True       True       True     False       1  \n",
      "2         True       True       True      True       1  \n",
      "3        False      False      False     False       0  \n",
      "4         True      False      False     False       0  \n",
      "\n",
      "Feature-selected data successfully saved to: ../data/heart_disease_rfe_features.csv\n",
      "\n",
      "--- Mission Accomplished for Notebook 03! ---\n"
     ]
    }
   ],
   "source": [
    "# --- 1. Create a new DataFrame with only the selected features ---\n",
    "X_rfe = X[selected_features]\n",
    "\n",
    "# --- 2. Concatenate the selected features with the target variable ---\n",
    "df_rfe_final = pd.concat([X_rfe, y], axis=1)\n",
    "\n",
    "# --- 3. Display the final DataFrame ---\n",
    "print(f\"Shape of the final RFE DataFrame: {df_rfe_final.shape}\")\n",
    "print(\"\\n--- First 5 rows of the final DataFrame ---\")\n",
    "print(df_rfe_final.head())\n",
    "\n",
    "# --- 4. Save the final DataFrame to a new CSV file ---\n",
    "OUTPUT_PATH_RFE = '../data/heart_disease_rfe_features.csv'\n",
    "df_rfe_final.to_csv(OUTPUT_PATH_RFE, index=False)\n",
    "\n",
    "print(f\"\\nFeature-selected data successfully saved to: {OUTPUT_PATH_RFE}\")\n",
    "print(\"\\n--- Mission Accomplished for Notebook 03! ---\")"
   ]
  }
 ],
 "metadata": {
  "kernelspec": {
   "display_name": "Python 3 (ipykernel)",
   "language": "python",
   "name": "python3"
  },
  "language_info": {
   "codemirror_mode": {
    "name": "ipython",
    "version": 3
   },
   "file_extension": ".py",
   "mimetype": "text/x-python",
   "name": "python",
   "nbconvert_exporter": "python",
   "pygments_lexer": "ipython3",
   "version": "3.13.5"
  }
 },
 "nbformat": 4,
 "nbformat_minor": 5
}
