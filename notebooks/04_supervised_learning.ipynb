{
 "cells": [
  {
   "cell_type": "markdown",
   "id": "6229abcf-193f-4b8b-85ca-2076ec409553",
   "metadata": {},
   "source": [
    "# SPRINT 4: Supervised Learning - Classification\n",
    "\n",
    "## Objective\n",
    "This is the core of our project. In this notebook, we will train, evaluate, and compare several supervised learning models to predict the presence of heart disease. We will conduct two main experiments to determine which data preparation strategy yields the best results:\n",
    "1.  **Experiment A:** Using the feature-selected data (from RFE).\n",
    "2.  **Experiment B:** Using the dimensionality-reduced data (from PCA).\n",
    "\n",
    "### Models to be Trained:\n",
    "- Logistic Regression\n",
    "- Decision Tree\n",
    "- Random Forest\n",
    "- Support Vector Machine (SVM)\n",
    "\n",
    "### Evaluation Metrics:\n",
    "- Accuracy, Precision, Recall, F1-score\n",
    "- ROC Curve & AUC Score"
   ]
  },
  {
   "cell_type": "markdown",
   "id": "ba577278-b337-43bd-bda1-642a185b2bd6",
   "metadata": {},
   "source": [
    "## Experiment A: Modeling with RFE Selected Features\n",
    "\n",
    "In this experiment, we will train our models on the dataset created from Recursive Feature Elimination (RFE). This data is smaller and more interpretable."
   ]
  },
  {
   "cell_type": "code",
   "execution_count": 1,
   "id": "dd2a5934-4c4e-4445-832f-cc91843d7c0f",
   "metadata": {},
   "outputs": [
    {
     "name": "stdout",
     "output_type": "stream",
     "text": [
      "--- Shape of the datasets ---\n",
      "X_train shape: (242, 12)\n",
      "X_test shape: (61, 12)\n",
      "y_train shape: (242,)\n",
      "y_test shape: (61,)\n"
     ]
    }
   ],
   "source": [
    "# --- 1. Import Libraries ---\n",
    "import pandas as pd\n",
    "import numpy as np\n",
    "import matplotlib.pyplot as plt\n",
    "import seaborn as sns\n",
    "\n",
    "# Model Selection\n",
    "from sklearn.model_selection import train_test_split\n",
    "\n",
    "# Models\n",
    "from sklearn.linear_model import LogisticRegression\n",
    "from sklearn.tree import DecisionTreeClassifier\n",
    "from sklearn.ensemble import RandomForestClassifier\n",
    "from sklearn.svm import SVC\n",
    "\n",
    "# Evaluation Metrics\n",
    "from sklearn.metrics import accuracy_score, precision_score, recall_score, f1_score, roc_auc_score, roc_curve\n",
    "\n",
    "# --- 2. Load the RFE-selected Feature Data ---\n",
    "RFE_DATA_PATH = '../data/heart_disease_rfe_features.csv'\n",
    "df_rfe = pd.read_csv(RFE_DATA_PATH)\n",
    "\n",
    "# --- 3. Separate Features (X) and Target (y) ---\n",
    "X_rfe = df_rfe.drop('target', axis=1)\n",
    "y_rfe = df_rfe['target']\n",
    "\n",
    "# --- 4. Split the data into Training and Testing sets ---\n",
    "# This is a crucial step for valid model evaluation.\n",
    "# We train the model on the training set and test its performance on the unseen testing set.\n",
    "# test_size=0.2 means we use 80% for training and 20% for testing.\n",
    "# random_state=42 ensures that we get the same split every time we run the code.\n",
    "X_train, X_test, y_train, y_test = train_test_split(X_rfe, y_rfe, test_size=0.2, random_state=42)\n",
    "\n",
    "# --- 5. Verify the shapes of the new datasets ---\n",
    "print(\"--- Shape of the datasets ---\")\n",
    "print(\"X_train shape:\", X_train.shape)\n",
    "print(\"X_test shape:\", X_test.shape)\n",
    "print(\"y_train shape:\", y_train.shape)\n",
    "print(\"y_test shape:\", y_test.shape)"
   ]
  },
  {
   "cell_type": "markdown",
   "id": "d68bd147-31ed-4b80-9b25-91fd130ae492",
   "metadata": {},
   "source": [
    "### 1. Logistic Regression\n",
    "\n",
    "Our first model is **Logistic Regression**. It's a fundamental and highly interpretable classification algorithm that serves as an excellent **baseline model**. We will train it on our training data and then evaluate its performance on the unseen test data."
   ]
  },
  {
   "cell_type": "code",
   "execution_count": 2,
   "id": "fd63f2f2-7396-459f-a90f-0d4d47945fe8",
   "metadata": {},
   "outputs": [
    {
     "name": "stdout",
     "output_type": "stream",
     "text": [
      "--- Logistic Regression Model Performance ---\n",
      "Accuracy: 0.8852\n",
      "Precision: 0.9032\n",
      "Recall: 0.8750\n",
      "F1-Score: 0.8889\n"
     ]
    }
   ],
   "source": [
    "# --- 1. Instantiate and Train the Logistic Regression Model ---\n",
    "lr_model = LogisticRegression(random_state=42)\n",
    "lr_model.fit(X_train, y_train)\n",
    "\n",
    "# --- 2. Make Predictions on the Test Data ---\n",
    "y_pred_lr = lr_model.predict(X_test)\n",
    "\n",
    "# --- 3. Evaluate the Model's Performance ---\n",
    "# We'll calculate the key metrics and store them for later comparison.\n",
    "lr_accuracy = accuracy_score(y_test, y_pred_lr)\n",
    "lr_precision = precision_score(y_test, y_pred_lr)\n",
    "lr_recall = recall_score(y_test, y_pred_lr)\n",
    "lr_f1 = f1_score(y_test, y_pred_lr)\n",
    "\n",
    "# --- 4. Print the Performance Metrics ---\n",
    "print(\"--- Logistic Regression Model Performance ---\")\n",
    "print(f\"Accuracy: {lr_accuracy:.4f}\")\n",
    "print(f\"Precision: {lr_precision:.4f}\")\n",
    "print(f\"Recall: {lr_recall:.4f}\")\n",
    "print(f\"F1-Score: {lr_f1:.4f}\")"
   ]
  },
  {
   "cell_type": "markdown",
   "id": "9defd928-68d8-4fd8-a629-23dfa1c28692",
   "metadata": {},
   "source": [
    "### 2. Decision Tree Classifier\n",
    "\n",
    "Next, we will train a **Decision Tree Classifier**. This model creates a tree-like structure of decisions based on the feature values to classify data. One of the main advantages of Decision Trees is their high interpretability."
   ]
  },
  {
   "cell_type": "code",
   "execution_count": 3,
   "id": "62cb7ef7-db05-4148-9b2b-a50289dea719",
   "metadata": {},
   "outputs": [
    {
     "name": "stdout",
     "output_type": "stream",
     "text": [
      "--- Decision Tree Model Performance ---\n",
      "Accuracy: 0.8033\n",
      "Precision: 0.8125\n",
      "Recall: 0.8125\n",
      "F1-Score: 0.8125\n"
     ]
    }
   ],
   "source": [
    "# --- 1. Instantiate and Train the Decision Tree Model ---\n",
    "dt_model = DecisionTreeClassifier(random_state=42)\n",
    "dt_model.fit(X_train, y_train)\n",
    "\n",
    "# --- 2. Make Predictions on the Test Data ---\n",
    "y_pred_dt = dt_model.predict(X_test)\n",
    "\n",
    "# --- 3. Evaluate the Model's Performance ---\n",
    "dt_accuracy = accuracy_score(y_test, y_pred_dt)\n",
    "dt_precision = precision_score(y_test, y_pred_dt)\n",
    "dt_recall = recall_score(y_test, y_pred_dt)\n",
    "dt_f1 = f1_score(y_test, y_pred_dt)\n",
    "\n",
    "# --- 4. Print the Performance Metrics ---\n",
    "print(\"--- Decision Tree Model Performance ---\")\n",
    "print(f\"Accuracy: {dt_accuracy:.4f}\")\n",
    "print(f\"Precision: {dt_precision:.4f}\")\n",
    "print(f\"Recall: {dt_recall:.4f}\")\n",
    "print(f\"F1-Score: {dt_f1:.4f}\")"
   ]
  },
  {
   "cell_type": "markdown",
   "id": "87421df7-84d1-468b-93ac-49e897925c2e",
   "metadata": {},
   "source": [
    "### 3. Random Forest Classifier\n",
    "\n",
    "Now, we will train a **Random Forest Classifier**. This is an **ensemble model**, which means it is constructed from many individual Decision Trees. It combines their outputs to make a final, more robust prediction. Random Forests are one of the most popular and effective machine learning models because they are typically more accurate and less prone to overfitting than a single Decision Tree."
   ]
  },
  {
   "cell_type": "code",
   "execution_count": 4,
   "id": "10cb23af-ada5-493b-a0df-fd242e406ff3",
   "metadata": {},
   "outputs": [
    {
     "name": "stdout",
     "output_type": "stream",
     "text": [
      "--- Random Forest Model Performance ---\n",
      "Accuracy: 0.8689\n",
      "Precision: 0.9286\n",
      "Recall: 0.8125\n",
      "F1-Score: 0.8667\n"
     ]
    }
   ],
   "source": [
    "# --- 1. Instantiate and Train the Random Forest Model ---\n",
    "rf_model = RandomForestClassifier(random_state=42)\n",
    "rf_model.fit(X_train, y_train)\n",
    "\n",
    "# --- 2. Make Predictions on the Test Data ---\n",
    "y_pred_rf = rf_model.predict(X_test)\n",
    "\n",
    "# --- 3. Evaluate the Model's Performance ---\n",
    "rf_accuracy = accuracy_score(y_test, y_pred_rf)\n",
    "rf_precision = precision_score(y_test, y_pred_rf)\n",
    "rf_recall = recall_score(y_test, y_pred_rf)\n",
    "rf_f1 = f1_score(y_test, y_pred_rf)\n",
    "\n",
    "# --- 4. Print the Performance Metrics ---\n",
    "print(\"--- Random Forest Model Performance ---\")\n",
    "print(f\"Accuracy: {rf_accuracy:.4f}\")\n",
    "print(f\"Precision: {rf_precision:.4f}\")\n",
    "print(f\"Recall: {rf_recall:.4f}\")\n",
    "print(f\"F1-Score: {rf_f1:.4f}\")"
   ]
  },
  {
   "cell_type": "markdown",
   "id": "ecc43fb7-040f-46d0-95f6-3f3cf261ace0",
   "metadata": {},
   "source": [
    "### 4. Support Vector Machine (SVM)\n",
    "\n",
    "Our final model is the **Support Vector Machine (SVM)**, implemented as `SVC` (Support Vector Classifier). SVMs are powerful models that work by finding the optimal hyperplane that best separates the different classes in the data. They are known for being effective, especially when the data has a clear margin of separation."
   ]
  },
  {
   "cell_type": "code",
   "execution_count": 5,
   "id": "3da9299b-2c88-43ab-90b3-d657ca848e03",
   "metadata": {},
   "outputs": [
    {
     "name": "stdout",
     "output_type": "stream",
     "text": [
      "--- Support Vector Machine (SVM) Model Performance ---\n",
      "Accuracy: 0.8689\n",
      "Precision: 0.9000\n",
      "Recall: 0.8438\n",
      "F1-Score: 0.8710\n"
     ]
    }
   ],
   "source": [
    "# --- 1. Instantiate and Train the Support Vector Machine Model ---\n",
    "svm_model = SVC(random_state=42)\n",
    "svm_model.fit(X_train, y_train)\n",
    "\n",
    "# --- 2. Make Predictions on the Test Data ---\n",
    "y_pred_svm = svm_model.predict(X_test)\n",
    "\n",
    "# --- 3. Evaluate the Model's Performance ---\n",
    "svm_accuracy = accuracy_score(y_test, y_pred_svm)\n",
    "svm_precision = precision_score(y_test, y_pred_svm)\n",
    "svm_recall = recall_score(y_test, y_pred_svm)\n",
    "svm_f1 = f1_score(y_test, y_pred_svm)\n",
    "\n",
    "# --- 4. Print the Performance Metrics ---\n",
    "print(\"--- Support Vector Machine (SVM) Model Performance ---\")\n",
    "print(f\"Accuracy: {svm_accuracy:.4f}\")\n",
    "print(f\"Precision: {svm_precision:.4f}\")\n",
    "print(f\"Recall: {svm_recall:.4f}\")\n",
    "print(f\"F1-Score: {svm_f1:.4f}\")"
   ]
  },
  {
   "cell_type": "markdown",
   "id": "f53db686-60c1-40bb-bed2-bc0247b9782b",
   "metadata": {},
   "source": [
    "## Experiment A: Results Summary\n",
    "\n",
    "We have now trained and evaluated all four models. To easily compare their performance side-by-side, let's gather all the metric scores into a single summary table."
   ]
  },
  {
   "cell_type": "code",
   "execution_count": 6,
   "id": "340b3b98-0af1-4c43-8439-62eb776f31b9",
   "metadata": {},
   "outputs": [
    {
     "name": "stdout",
     "output_type": "stream",
     "text": [
      "--- Summary of Model Performance (RFE Features) ---\n"
     ]
    },
    {
     "data": {
      "text/html": [
       "<div>\n",
       "<style scoped>\n",
       "    .dataframe tbody tr th:only-of-type {\n",
       "        vertical-align: middle;\n",
       "    }\n",
       "\n",
       "    .dataframe tbody tr th {\n",
       "        vertical-align: top;\n",
       "    }\n",
       "\n",
       "    .dataframe thead th {\n",
       "        text-align: right;\n",
       "    }\n",
       "</style>\n",
       "<table border=\"1\" class=\"dataframe\">\n",
       "  <thead>\n",
       "    <tr style=\"text-align: right;\">\n",
       "      <th></th>\n",
       "      <th>Model</th>\n",
       "      <th>Accuracy</th>\n",
       "      <th>Precision</th>\n",
       "      <th>Recall</th>\n",
       "      <th>F1-Score</th>\n",
       "    </tr>\n",
       "  </thead>\n",
       "  <tbody>\n",
       "    <tr>\n",
       "      <th>0</th>\n",
       "      <td>Logistic Regression</td>\n",
       "      <td>0.885246</td>\n",
       "      <td>0.903226</td>\n",
       "      <td>0.87500</td>\n",
       "      <td>0.888889</td>\n",
       "    </tr>\n",
       "    <tr>\n",
       "      <th>2</th>\n",
       "      <td>Random Forest</td>\n",
       "      <td>0.868852</td>\n",
       "      <td>0.928571</td>\n",
       "      <td>0.81250</td>\n",
       "      <td>0.866667</td>\n",
       "    </tr>\n",
       "    <tr>\n",
       "      <th>3</th>\n",
       "      <td>SVM</td>\n",
       "      <td>0.868852</td>\n",
       "      <td>0.900000</td>\n",
       "      <td>0.84375</td>\n",
       "      <td>0.870968</td>\n",
       "    </tr>\n",
       "    <tr>\n",
       "      <th>1</th>\n",
       "      <td>Decision Tree</td>\n",
       "      <td>0.803279</td>\n",
       "      <td>0.812500</td>\n",
       "      <td>0.81250</td>\n",
       "      <td>0.812500</td>\n",
       "    </tr>\n",
       "  </tbody>\n",
       "</table>\n",
       "</div>"
      ],
      "text/plain": [
       "                 Model  Accuracy  Precision   Recall  F1-Score\n",
       "0  Logistic Regression  0.885246   0.903226  0.87500  0.888889\n",
       "2        Random Forest  0.868852   0.928571  0.81250  0.866667\n",
       "3                  SVM  0.868852   0.900000  0.84375  0.870968\n",
       "1        Decision Tree  0.803279   0.812500  0.81250  0.812500"
      ]
     },
     "execution_count": 6,
     "metadata": {},
     "output_type": "execute_result"
    }
   ],
   "source": [
    "# --- 1. Create a dictionary with the results ---\n",
    "results_data = {\n",
    "    'Model': ['Logistic Regression', 'Decision Tree', 'Random Forest', 'SVM'],\n",
    "    'Accuracy': [lr_accuracy, dt_accuracy, rf_accuracy, svm_accuracy],\n",
    "    'Precision': [lr_precision, dt_precision, rf_precision, svm_precision],\n",
    "    'Recall': [lr_recall, dt_recall, rf_recall, svm_recall],\n",
    "    'F1-Score': [lr_f1, dt_f1, rf_f1, svm_f1]\n",
    "}\n",
    "\n",
    "# --- 2. Create a DataFrame and sort by Accuracy ---\n",
    "results_df = pd.DataFrame(results_data)\n",
    "results_df_sorted = results_df.sort_values(by='Accuracy', ascending=False)\n",
    "\n",
    "# --- 3. Display the results table ---\n",
    "print(\"--- Summary of Model Performance (RFE Features) ---\")\n",
    "results_df_sorted"
   ]
  },
  {
   "cell_type": "markdown",
   "id": "3eb962cd-bcad-4aa9-891e-3f198fe9e508",
   "metadata": {},
   "source": [
    "## Experiment B: Modeling with PCA Components\n",
    "\n",
    "Now, for our second experiment, we will repeat the entire modeling process using the data derived from Principal Component Analysis (PCA). The goal is to see if this different data preparation strategy can yield better performance. We will start by loading the fully processed data, applying our PCA transformation, and then splitting the result for training and testing."
   ]
  },
  {
   "cell_type": "code",
   "execution_count": 7,
   "id": "9f1e9bb1-ab7c-4f6f-b170-199518a2ba5d",
   "metadata": {},
   "outputs": [
    {
     "name": "stdout",
     "output_type": "stream",
     "text": [
      "--- Shape of the PCA datasets for Experiment B ---\n",
      "X_train_pca shape: (242, 12)\n",
      "X_test_pca shape: (61, 12)\n",
      "y_train_pca shape: (242,)\n",
      "y_test_pca shape: (61,)\n"
     ]
    }
   ],
   "source": [
    "# --- 1. Import necessary NEW libraries for this step ---\n",
    "from sklearn.decomposition import PCA\n",
    "\n",
    "# --- 2. Load the FULL Processed Data ---\n",
    "# We start with the clean data from notebook 01.\n",
    "df_processed = pd.read_csv('../data/heart_disease_processed.csv')\n",
    "X_orig = df_processed.drop('target', axis=1)\n",
    "y_orig = df_processed['target']\n",
    "\n",
    "# --- 3. Apply our PCA recipe ---\n",
    "# We use the optimal number of components (12) that we discovered in notebook 02.\n",
    "pca = PCA(n_components=12, random_state=42)\n",
    "X_pca = pca.fit_transform(X_orig)\n",
    "\n",
    "# --- 4. Split the PCA data into Training and Testing sets ---\n",
    "# We use the same random_state for a fair comparison with Experiment A.\n",
    "X_train_pca, X_test_pca, y_train_pca, y_test_pca = train_test_split(X_pca, y_orig, test_size=0.2, random_state=42)\n",
    "\n",
    "# --- 5. Verify the shapes ---\n",
    "print(\"--- Shape of the PCA datasets for Experiment B ---\")\n",
    "print(\"X_train_pca shape:\", X_train_pca.shape)\n",
    "print(\"X_test_pca shape:\", X_test_pca.shape)\n",
    "print(\"y_train_pca shape:\", y_train_pca.shape)\n",
    "print(\"y_test_pca shape:\", y_test_pca.shape)"
   ]
  },
  {
   "cell_type": "markdown",
   "id": "0e6b77e2-1a9d-4e65-aba9-b0f15f9417a4",
   "metadata": {},
   "source": [
    "### 1. Logistic Regression (on PCA Data)\n",
    "\n",
    "Let's begin Experiment B by training our baseline model, Logistic Regression, on the PCA-transformed features. We will follow the same evaluation procedure as in Experiment A."
   ]
  },
  {
   "cell_type": "code",
   "execution_count": 8,
   "id": "dae3fe84-532d-4392-9804-cd6774d37fac",
   "metadata": {},
   "outputs": [
    {
     "name": "stdout",
     "output_type": "stream",
     "text": [
      "--- Logistic Regression (PCA) Model Performance ---\n",
      "Accuracy: 0.8689\n",
      "Precision: 0.8750\n",
      "Recall: 0.8750\n",
      "F1-Score: 0.8750\n"
     ]
    }
   ],
   "source": [
    "# --- 1. Instantiate and Train the Logistic Regression Model on PCA data ---\n",
    "lr_model_pca = LogisticRegression(random_state=42)\n",
    "lr_model_pca.fit(X_train_pca, y_train_pca)\n",
    "\n",
    "# --- 2. Make Predictions on the PCA Test Data ---\n",
    "y_pred_lr_pca = lr_model_pca.predict(X_test_pca)\n",
    "\n",
    "# --- 3. Evaluate the Model's Performance ---\n",
    "lr_pca_accuracy = accuracy_score(y_test_pca, y_pred_lr_pca)\n",
    "lr_pca_precision = precision_score(y_test_pca, y_pred_lr_pca)\n",
    "lr_pca_recall = recall_score(y_test_pca, y_pred_lr_pca)\n",
    "lr_pca_f1 = f1_score(y_test_pca, y_pred_lr_pca)\n",
    "\n",
    "# --- 4. Print the Performance Metrics ---\n",
    "print(\"--- Logistic Regression (PCA) Model Performance ---\")\n",
    "print(f\"Accuracy: {lr_pca_accuracy:.4f}\")\n",
    "print(f\"Precision: {lr_pca_precision:.4f}\")\n",
    "print(f\"Recall: {lr_pca_recall:.4f}\")\n",
    "print(f\"F1-Score: {lr_pca_f1:.4f}\")"
   ]
  },
  {
   "cell_type": "markdown",
   "id": "df791c53-9d36-42ff-bdc6-ed6473a2934d",
   "metadata": {},
   "source": [
    "### 2. Decision Tree Classifier (on PCA Data)\n",
    "\n",
    "Next, we will train the Decision Tree Classifier on our PCA-transformed data to see how this model performs on a less interpretable but potentially more condensed feature set."
   ]
  },
  {
   "cell_type": "code",
   "execution_count": 9,
   "id": "364b582c-2615-4917-b9e8-34110c49cea4",
   "metadata": {},
   "outputs": [
    {
     "name": "stdout",
     "output_type": "stream",
     "text": [
      "--- Decision Tree (PCA) Model Performance ---\n",
      "Accuracy: 0.7869\n",
      "Precision: 0.8276\n",
      "Recall: 0.7500\n",
      "F1-Score: 0.7869\n"
     ]
    }
   ],
   "source": [
    "# --- 1. Instantiate and Train the Decision Tree Model on PCA data ---\n",
    "dt_model_pca = DecisionTreeClassifier(random_state=42)\n",
    "dt_model_pca.fit(X_train_pca, y_train_pca)\n",
    "\n",
    "# --- 2. Make Predictions on the PCA Test Data ---\n",
    "y_pred_dt_pca = dt_model_pca.predict(X_test_pca)\n",
    "\n",
    "# --- 3. Evaluate the Model's Performance ---\n",
    "dt_pca_accuracy = accuracy_score(y_test_pca, y_pred_dt_pca)\n",
    "dt_pca_precision = precision_score(y_test_pca, y_pred_dt_pca)\n",
    "dt_pca_recall = recall_score(y_test_pca, y_pred_dt_pca)\n",
    "dt_pca_f1 = f1_score(y_test_pca, y_pred_dt_pca)\n",
    "\n",
    "# --- 4. Print the Performance Metrics ---\n",
    "print(\"--- Decision Tree (PCA) Model Performance ---\")\n",
    "print(f\"Accuracy: {dt_pca_accuracy:.4f}\")\n",
    "print(f\"Precision: {dt_pca_precision:.4f}\")\n",
    "print(f\"Recall: {dt_pca_recall:.4f}\")\n",
    "print(f\"F1-Score: {dt_pca_f1:.4f}\")"
   ]
  },
  {
   "cell_type": "markdown",
   "id": "5be9ad46-2474-411d-9fde-0a0c54896716",
   "metadata": {},
   "source": [
    "### 3. Random Forest Classifier (on PCA Data)\n",
    "\n",
    "Following the Decision Tree, we will now train its more powerful ensemble version, the Random Forest Classifier, on the PCA data to see if the collective decision-making of multiple trees improves performance."
   ]
  },
  {
   "cell_type": "code",
   "execution_count": 10,
   "id": "6d655006-fd75-4681-8126-cc7b8ee3c896",
   "metadata": {},
   "outputs": [
    {
     "name": "stdout",
     "output_type": "stream",
     "text": [
      "--- Random Forest (PCA) Model Performance ---\n",
      "Accuracy: 0.8197\n",
      "Precision: 0.8621\n",
      "Recall: 0.7812\n",
      "F1-Score: 0.8197\n"
     ]
    }
   ],
   "source": [
    "# --- 1. Instantiate and Train the Random Forest Model on PCA data ---\n",
    "rf_model_pca = RandomForestClassifier(random_state=42)\n",
    "rf_model_pca.fit(X_train_pca, y_train_pca)\n",
    "\n",
    "# --- 2. Make Predictions on the PCA Test Data ---\n",
    "y_pred_rf_pca = rf_model_pca.predict(X_test_pca)\n",
    "\n",
    "# --- 3. Evaluate the Model's Performance ---\n",
    "rf_pca_accuracy = accuracy_score(y_test_pca, y_pred_rf_pca)\n",
    "rf_pca_precision = precision_score(y_test_pca, y_pred_rf_pca)\n",
    "rf_pca_recall = recall_score(y_test_pca, y_pred_rf_pca)\n",
    "rf_pca_f1 = f1_score(y_test_pca, y_pred_rf_pca)\n",
    "\n",
    "# --- 4. Print the Performance Metrics ---\n",
    "print(\"--- Random Forest (PCA) Model Performance ---\")\n",
    "print(f\"Accuracy: {rf_pca_accuracy:.4f}\")\n",
    "print(f\"Precision: {rf_pca_precision:.4f}\")\n",
    "print(f\"Recall: {rf_pca_recall:.4f}\")\n",
    "print(f\"F1-Score: {rf_pca_f1:.4f}\")"
   ]
  },
  {
   "cell_type": "markdown",
   "id": "f979a93e-76b9-4f75-b7af-6883a48c1c1e",
   "metadata": {},
   "source": [
    "### 4. Support Vector Machine (SVM) on PCA Data\n",
    "\n",
    "Finally, we will train the Support Vector Machine on the PCA-transformed data to complete our second experiment and see how it performs."
   ]
  },
  {
   "cell_type": "code",
   "execution_count": 11,
   "id": "3fb69268-076f-4b56-8b93-6e459d59e8dc",
   "metadata": {},
   "outputs": [
    {
     "name": "stdout",
     "output_type": "stream",
     "text": [
      "--- Support Vector Machine (PCA) Model Performance ---\n",
      "Accuracy: 0.8852\n",
      "Precision: 0.9032\n",
      "Recall: 0.8750\n",
      "F1-Score: 0.8889\n"
     ]
    }
   ],
   "source": [
    "# --- 1. Instantiate and Train the SVM Model on PCA data ---\n",
    "svm_model_pca = SVC(random_state=42)\n",
    "svm_model_pca.fit(X_train_pca, y_train_pca)\n",
    "\n",
    "# --- 2. Make Predictions on the PCA Test Data ---\n",
    "y_pred_svm_pca = svm_model_pca.predict(X_test_pca)\n",
    "\n",
    "# --- 3. Evaluate the Model's Performance ---\n",
    "svm_pca_accuracy = accuracy_score(y_test_pca, y_pred_svm_pca)\n",
    "svm_pca_precision = precision_score(y_test_pca, y_pred_svm_pca)\n",
    "svm_pca_recall = recall_score(y_test_pca, y_pred_svm_pca)\n",
    "svm_pca_f1 = f1_score(y_test_pca, y_pred_svm_pca)\n",
    "\n",
    "# --- 4. Print the Performance Metrics ---\n",
    "print(\"--- Support Vector Machine (PCA) Model Performance ---\")\n",
    "print(f\"Accuracy: {svm_pca_accuracy:.4f}\")\n",
    "print(f\"Precision: {svm_pca_precision:.4f}\")\n",
    "print(f\"Recall: {svm_pca_recall:.4f}\")\n",
    "print(f\"F1-Score: {svm_pca_f1:.4f}\")"
   ]
  },
  {
   "cell_type": "markdown",
   "id": "fcacb24e-e5a5-40f4-90cb-9ae4c25fd2dc",
   "metadata": {},
   "source": [
    "## Experiment B: Results Summary\n",
    "\n",
    "With all four models trained and evaluated on the PCA-transformed data, let's compile their performance metrics into a summary table. This will allow us to easily identify the best-performing model from this experiment."
   ]
  },
  {
   "cell_type": "code",
   "execution_count": 12,
   "id": "85b787b0-2441-4e70-ab52-84d634389e45",
   "metadata": {},
   "outputs": [
    {
     "name": "stdout",
     "output_type": "stream",
     "text": [
      "--- Summary of Model Performance (PCA Features) ---\n"
     ]
    },
    {
     "data": {
      "text/html": [
       "<div>\n",
       "<style scoped>\n",
       "    .dataframe tbody tr th:only-of-type {\n",
       "        vertical-align: middle;\n",
       "    }\n",
       "\n",
       "    .dataframe tbody tr th {\n",
       "        vertical-align: top;\n",
       "    }\n",
       "\n",
       "    .dataframe thead th {\n",
       "        text-align: right;\n",
       "    }\n",
       "</style>\n",
       "<table border=\"1\" class=\"dataframe\">\n",
       "  <thead>\n",
       "    <tr style=\"text-align: right;\">\n",
       "      <th></th>\n",
       "      <th>Model</th>\n",
       "      <th>Accuracy</th>\n",
       "      <th>Precision</th>\n",
       "      <th>Recall</th>\n",
       "      <th>F1-Score</th>\n",
       "    </tr>\n",
       "  </thead>\n",
       "  <tbody>\n",
       "    <tr>\n",
       "      <th>3</th>\n",
       "      <td>SVM</td>\n",
       "      <td>0.885246</td>\n",
       "      <td>0.903226</td>\n",
       "      <td>0.87500</td>\n",
       "      <td>0.888889</td>\n",
       "    </tr>\n",
       "    <tr>\n",
       "      <th>0</th>\n",
       "      <td>Logistic Regression</td>\n",
       "      <td>0.868852</td>\n",
       "      <td>0.875000</td>\n",
       "      <td>0.87500</td>\n",
       "      <td>0.875000</td>\n",
       "    </tr>\n",
       "    <tr>\n",
       "      <th>2</th>\n",
       "      <td>Random Forest</td>\n",
       "      <td>0.819672</td>\n",
       "      <td>0.862069</td>\n",
       "      <td>0.78125</td>\n",
       "      <td>0.819672</td>\n",
       "    </tr>\n",
       "    <tr>\n",
       "      <th>1</th>\n",
       "      <td>Decision Tree</td>\n",
       "      <td>0.786885</td>\n",
       "      <td>0.827586</td>\n",
       "      <td>0.75000</td>\n",
       "      <td>0.786885</td>\n",
       "    </tr>\n",
       "  </tbody>\n",
       "</table>\n",
       "</div>"
      ],
      "text/plain": [
       "                 Model  Accuracy  Precision   Recall  F1-Score\n",
       "3                  SVM  0.885246   0.903226  0.87500  0.888889\n",
       "0  Logistic Regression  0.868852   0.875000  0.87500  0.875000\n",
       "2        Random Forest  0.819672   0.862069  0.78125  0.819672\n",
       "1        Decision Tree  0.786885   0.827586  0.75000  0.786885"
      ]
     },
     "execution_count": 12,
     "metadata": {},
     "output_type": "execute_result"
    }
   ],
   "source": [
    "# --- 1. Create a dictionary with the PCA experiment results ---\n",
    "results_data_pca = {\n",
    "    'Model': ['Logistic Regression', 'Decision Tree', 'Random Forest', 'SVM'],\n",
    "    'Accuracy': [lr_pca_accuracy, dt_pca_accuracy, rf_pca_accuracy, svm_pca_accuracy],\n",
    "    'Precision': [lr_pca_precision, dt_pca_precision, rf_pca_precision, svm_pca_precision],\n",
    "    'Recall': [lr_pca_recall, dt_pca_recall, rf_pca_recall, svm_pca_recall],\n",
    "    'F1-Score': [lr_pca_f1, dt_pca_f1, rf_pca_f1, svm_pca_f1]\n",
    "}\n",
    "\n",
    "# --- 2. Create a DataFrame and sort by Accuracy ---\n",
    "results_df_pca = pd.DataFrame(results_data_pca)\n",
    "results_df_pca_sorted = results_df_pca.sort_values(by='Accuracy', ascending=False)\n",
    "\n",
    "# --- 3. Display the results table ---\n",
    "print(\"--- Summary of Model Performance (PCA Features) ---\")\n",
    "results_df_pca_sorted"
   ]
  },
  {
   "cell_type": "markdown",
   "id": "17b8db60-f37f-4ceb-9fb1-6b3a0295792a",
   "metadata": {},
   "source": [
    "## Final Verdict: RFE vs. PCA Performance Comparison\n",
    "\n",
    "Now for the final showdown. We will compare the best-performing model from Experiment A (SVM) with the best-performing model from Experiment B (let's assume it's Logistic Regression).\n",
    "\n",
    "The **ROC Curve (Receiver Operating Characteristic Curve)** and the **AUC (Area Under the Curve)** score are the professional standards for this comparison. The ROC curve shows how well a model can distinguish between the two classes (disease vs. no disease). A model is considered better if its curve is closer to the top-left corner, and its AUC score is closer to 1.0."
   ]
  },
  {
   "cell_type": "code",
   "execution_count": 13,
   "id": "76e86194-971b-4123-b3ec-f767bf8668f7",
   "metadata": {},
   "outputs": [
    {
     "data": {
      "image/png": "[encoded data removed]",
      "text/plain": [
       "<Figure size 1200x800 with 1 Axes>"
      ]
     },
     "metadata": {},
     "output_type": "display_data"
    }
   ],
   "source": [
    "# --- 1. Get scores/probabilities from the best models for ROC curve calculation ---\n",
    "# For SVM (best model from Experiment A), we use decision_function.\n",
    "y_scores_svm = svm_model.decision_function(X_test)\n",
    "\n",
    "# For Logistic Regression (best model from Experiment B), we use predict_proba.\n",
    "y_probs_lr_pca = lr_model_pca.predict_proba(X_test_pca)[:, 1]\n",
    "\n",
    "# --- 2. Calculate ROC curve data and AUC scores ---\n",
    "# For SVM on RFE data\n",
    "fpr_svm, tpr_svm, _ = roc_curve(y_test, y_scores_svm)\n",
    "auc_svm = roc_auc_score(y_test, y_scores_svm)\n",
    "\n",
    "# For Logistic Regression on PCA data\n",
    "fpr_lr_pca, tpr_lr_pca, _ = roc_curve(y_test_pca, y_probs_lr_pca)\n",
    "auc_lr_pca = roc_auc_score(y_test_pca, y_probs_lr_pca)\n",
    "\n",
    "# --- 3. Plot the ROC curves on the same graph ---\n",
    "plt.figure(figsize=(12, 8))\n",
    "plt.plot(fpr_svm, tpr_svm, linestyle='-', marker='.', label=f'SVM (RFE Features) - AUC: {auc_svm:.4f}')\n",
    "plt.plot(fpr_lr_pca, tpr_lr_pca, linestyle='--', marker='.', label=f'Logistic Regression (PCA) - AUC: {auc_lr_pca:.4f}')\n",
    "plt.plot([0, 1], [0, 1], color='grey', linestyle=':', label='Random Guess') # Random guess line\n",
    "\n",
    "# --- 4. Configure and show the plot ---\n",
    "plt.title('ROC Curve Comparison: RFE vs. PCA', fontsize=18)\n",
    "plt.xlabel('False Positive Rate', fontsize=14)\n",
    "plt.ylabel('True Positive Rate', fontsize=14)\n",
    "plt.legend(fontsize=12)\n",
    "plt.grid(True)\n",
    "plt.savefig('../results/roc_curve_comparison.png')\n",
    "plt.show()"
   ]
  },
  {
   "cell_type": "code",
   "execution_count": 14,
   "id": "11994ba6-67ee-4073-9f2d-28e7d8d06057",
   "metadata": {},
   "outputs": [
    {
     "name": "stdout",
     "output_type": "stream",
     "text": [
      "Results tables saved to ../results/\n",
      "\n",
      "--- Mission Accomplished for Notebook 04! ---\n"
     ]
    }
   ],
   "source": [
    "# --- Save Final Results ---\n",
    "\n",
    "# Define paths for the results\n",
    "RESULTS_PATH = '../results/'\n",
    "RFE_RESULTS_CSV_PATH = RESULTS_PATH + 'model_performance_rfe.csv'\n",
    "PCA_RESULTS_CSV_PATH = RESULTS_PATH + 'model_performance_pca.csv'\n",
    "ROC_CURVE_IMG_PATH = RESULTS_PATH + 'roc_curve_comparison.png'\n",
    "\n",
    "# Save the performance tables to CSV files\n",
    "results_df_sorted.to_csv(RFE_RESULTS_CSV_PATH, index=False)\n",
    "results_df_pca_sorted.to_csv(PCA_RESULTS_CSV_PATH, index=False)\n",
    "\n",
    "print(f\"Results tables saved to {RESULTS_PATH}\")\n",
    "print(\"\\n--- Mission Accomplished for Notebook 04! ---\")"
   ]
  },
  {
   "cell_type": "code",
   "execution_count": null,
   "id": "c1126ed8-a944-43d1-859a-cb8282d9b400",
   "metadata": {},
   "outputs": [],
   "source": []
  }
 ],
 "metadata": {
  "kernelspec": {
   "display_name": "Python 3 (ipykernel)",
   "language": "python",
   "name": "python3"
  },
  "language_info": {
   "codemirror_mode": {
    "name": "ipython",
    "version": 3
   },
   "file_extension": ".py",
   "mimetype": "text/x-python",
   "name": "python",
   "nbconvert_exporter": "python",
   "pygments_lexer": "ipython3",
   "version": "3.13.5"
  }
 },
 "nbformat": 4,
 "nbformat_minor": 5
}
